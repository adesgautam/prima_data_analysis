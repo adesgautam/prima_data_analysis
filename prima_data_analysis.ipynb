{
 "cells": [
  {
   "cell_type": "code",
   "execution_count": 23,
   "metadata": {
    "collapsed": true
   },
   "outputs": [],
   "source": [
    "# Import libraries\n",
    "import pandas as pd\n",
    "import numpy as np\n",
    "\n",
    "from sklearn.neighbors import KNeighborsClassifier\n",
    "from sklearn.linear_model import LogisticRegression\n",
    "from sklearn.model_selection import train_test_split\n",
    "from sklearn.decomposition import PCA\n",
    "from sklearn import preprocessing\n",
    "\n",
    "import matplotlib.pyplot as plt"
   ]
  },
  {
   "cell_type": "code",
   "execution_count": 7,
   "metadata": {
    "collapsed": false
   },
   "outputs": [],
   "source": [
    "# Load Dataset\n",
    "dataset = pd.read_csv(\"\Diabetes.csv\", delimiter=',')"
   ]
  },
  {
   "cell_type": "code",
   "execution_count": 8,
   "metadata": {
    "collapsed": true
   },
   "outputs": [],
   "source": [
    "# Separate X and y (train data and labels)\n",
    "y = dataset['Outcome'].copy()\n",
    "X = dataset.drop(labels=['Outcome'], axis=1)\n",
    "X.dropna(axis=0,how='any', inplace=True)"
   ]
  },
  {
   "cell_type": "code",
   "execution_count": 9,
   "metadata": {
    "collapsed": true
   },
   "outputs": [],
   "source": [
    "# Split data \n",
    "X_train, X_test, y_train, y_test = train_test_split(X, y, test_size=0.2, random_state=7)"
   ]
  },
  {
   "cell_type": "code",
   "execution_count": 10,
   "metadata": {
    "collapsed": true
   },
   "outputs": [],
   "source": [
    "# Preprocessing using StandardScalar\n",
    "processor = preprocessing.StandardScaler()\n",
    "processor.fit(X_train)\n",
    "X_train = processor.transform(X_train)\n",
    "X_test = processor.transform(X_test)"
   ]
  },
  {
   "cell_type": "code",
   "execution_count": 11,
   "metadata": {
    "collapsed": false
   },
   "outputs": [
    {
     "name": "stdout",
     "output_type": "stream",
     "text": [
      "Decision Tree Score: 0.766233766234\n"
     ]
    }
   ],
   "source": [
    "# Decision Tree\n",
    "from sklearn import tree\n",
    "d_tree = tree.DecisionTreeClassifier()\n",
    "d_tree.fit(X_train, y_train)\n",
    "accuracy_score = d_tree.score(X_test, y_test)\n",
    "print(\"Decision Tree Score: \"+ str(accuracy_score))"
   ]
  },
  {
   "cell_type": "code",
   "execution_count": 12,
   "metadata": {
    "collapsed": false
   },
   "outputs": [
    {
     "name": "stdout",
     "output_type": "stream",
     "text": [
      "KNeighbour Classifier best score: 0.753246753247 Neighbors: 9\n"
     ]
    }
   ],
   "source": [
    "# KNeighbor Classifier\n",
    "best_Kscore = 0\n",
    "neighbors = 0\n",
    "for i in range(1,10):\n",
    "\tknn = KNeighborsClassifier(n_neighbors=i)\n",
    "\tknn.fit(X_train, y_train)\n",
    "\taccuracy_score = knn.score(X_test, y_test)\n",
    "\tif best_Kscore<accuracy_score:\n",
    "\t\tbest_Kscore=accuracy_score\n",
    "\n",
    "print(\"KNeighbour Classifier best score: \" + str(best_Kscore)+ \" Neighbors: \"+str(i))"
   ]
  },
  {
   "cell_type": "code",
   "execution_count": 14,
   "metadata": {
    "collapsed": false
   },
   "outputs": [
    {
     "name": "stdout",
     "output_type": "stream",
     "text": [
      "SVM best score: 0.837662337662\n",
      "C: 1.8 gamma: 0.085\n"
     ]
    }
   ],
   "source": [
    "# Support Vector Machine\n",
    "from sklearn.svm import SVC\n",
    "best_score=0\n",
    "C=0\n",
    "gamma=0\n",
    "\n",
    "for c in np.arange(0.05,2,0.05):\n",
    "\tfor g in np.arange(0.001,0.1,0.001):\n",
    "\t\tsvc = SVC(kernel='rbf', C=c, gamma=g)\n",
    "\t\tsvc.fit(X_train, y_train)\t\t\n",
    "\t\tscore = svc.score(X_test, y_test)\n",
    "\t\tif best_score<score:\n",
    "\t\t\tbest_score=score\n",
    "\t\t\tC = c\n",
    "\t\t\tgamma = g\n",
    "\n",
    "print(\"SVM best score: \"+str(best_score))\n",
    "print(\"C: \"+str(C)+\" gamma: \"+str(gamma))"
   ]
  },
  {
   "cell_type": "code",
   "execution_count": 27,
   "metadata": {
    "collapsed": false
   },
   "outputs": [
    {
     "name": "stdout",
     "output_type": "stream",
     "text": [
      "Logistic Regression Score: 0.785714285714\n"
     ]
    }
   ],
   "source": [
    "# Logistic regression\n",
    "lr = LogisticRegression()\n",
    "lr.fit(X_train, y_train)\n",
    "lr_score = lr.score(X_test, y_test)\n",
    "print(\"Logistic Regression Score: \"+ str(lr_score))"
   ]
  },
  {
   "cell_type": "code",
   "execution_count": 29,
   "metadata": {
    "collapsed": true
   },
   "outputs": [],
   "source": [
    "# Final Prediction using Logistic Regression\n",
    "predictions = lr.predict(X_test)"
   ]
  },
  {
   "cell_type": "code",
   "execution_count": 30,
   "metadata": {
    "collapsed": true
   },
   "outputs": [],
   "source": [
    "from sklearn.metrics import accuracy_score\n",
    "from sklearn.metrics import classification_report\n",
    "from sklearn.metrics import confusion_matrix"
   ]
  },
  {
   "cell_type": "code",
   "execution_count": 32,
   "metadata": {
    "collapsed": false
   },
   "outputs": [
    {
     "name": "stdout",
     "output_type": "stream",
     "text": [
      "0.785714285714\n"
     ]
    }
   ],
   "source": [
    "print(accuracy_score(y_test,predictions))"
   ]
  },
  {
   "cell_type": "code",
   "execution_count": 36,
   "metadata": {
    "collapsed": false
   },
   "outputs": [
    {
     "name": "stdout",
     "output_type": "stream",
     "text": [
      "             precision    recall  f1-score   support\n",
      "\n",
      "          0       0.78      0.92      0.84        97\n",
      "          1       0.80      0.56      0.66        57\n",
      "\n",
      "avg / total       0.79      0.79      0.78       154\n",
      "\n"
     ]
    }
   ],
   "source": [
    "# Classification Report\n",
    "print(classification_report(y_test,predictions))"
   ]
  },
  {
   "cell_type": "code",
   "execution_count": 44,
   "metadata": {
    "collapsed": false
   },
   "outputs": [],
   "source": [
    "# Confusion Matrix\n",
    "conf = confusion_matrix(y_test,predictions)"
   ]
  },
  {
   "cell_type": "code",
   "execution_count": 45,
   "metadata": {
    "collapsed": true
   },
   "outputs": [],
   "source": [
    "# Show Heatmap\n",
    "import seaborn as sns\n",
    "label = [\"0\",\"1\"]\n",
    "sns.heatmap(conf, annot=True, xticklabels=label, yticklabels=label)\n",
    "plt.show()"
   ]
  }
 ],
 "metadata": {
  "kernelspec": {
   "display_name": "Python 3",
   "language": "python",
   "name": "python3"
  },
  "language_info": {
   "codemirror_mode": {
    "name": "ipython",
    "version": 3
   },
   "file_extension": ".py",
   "mimetype": "text/x-python",
   "name": "python",
   "nbconvert_exporter": "python",
   "pygments_lexer": "ipython3",
   "version": "3.5.1"
  }
 },
 "nbformat": 4,
 "nbformat_minor": 0
}
